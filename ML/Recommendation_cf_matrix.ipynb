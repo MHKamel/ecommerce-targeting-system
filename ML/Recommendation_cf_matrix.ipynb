{
  "nbformat": 4,
  "nbformat_minor": 0,
  "metadata": {
    "colab": {
      "provenance": []
    },
    "kernelspec": {
      "name": "python3",
      "display_name": "Python 3"
    },
    "language_info": {
      "name": "python"
    },
    "widgets": {
      "application/vnd.jupyter.widget-state+json": {
        "53491ecf09484a24b9871fc952191279": {
          "model_module": "@jupyter-widgets/controls",
          "model_name": "HBoxModel",
          "model_module_version": "1.5.0",
          "state": {
            "_dom_classes": [],
            "_model_module": "@jupyter-widgets/controls",
            "_model_module_version": "1.5.0",
            "_model_name": "HBoxModel",
            "_view_count": null,
            "_view_module": "@jupyter-widgets/controls",
            "_view_module_version": "1.5.0",
            "_view_name": "HBoxView",
            "box_style": "",
            "children": [
              "IPY_MODEL_37bc7d33dbee40fb8f36ed6d433a6c11",
              "IPY_MODEL_4abe281e031c402abb816e57649a6887",
              "IPY_MODEL_6ed42cc421fa42d0919cd7e25f44245e"
            ],
            "layout": "IPY_MODEL_6e8aed48bc274f3e84d25aefc289b626"
          }
        },
        "37bc7d33dbee40fb8f36ed6d433a6c11": {
          "model_module": "@jupyter-widgets/controls",
          "model_name": "HTMLModel",
          "model_module_version": "1.5.0",
          "state": {
            "_dom_classes": [],
            "_model_module": "@jupyter-widgets/controls",
            "_model_module_version": "1.5.0",
            "_model_name": "HTMLModel",
            "_view_count": null,
            "_view_module": "@jupyter-widgets/controls",
            "_view_module_version": "1.5.0",
            "_view_name": "HTMLView",
            "description": "",
            "description_tooltip": null,
            "layout": "IPY_MODEL_17d357005f8a4d419dc28e006f6e9ea3",
            "placeholder": "​",
            "style": "IPY_MODEL_f1fc973822d04e1db204dc1f225a3ceb",
            "value": "100%"
          }
        },
        "4abe281e031c402abb816e57649a6887": {
          "model_module": "@jupyter-widgets/controls",
          "model_name": "FloatProgressModel",
          "model_module_version": "1.5.0",
          "state": {
            "_dom_classes": [],
            "_model_module": "@jupyter-widgets/controls",
            "_model_module_version": "1.5.0",
            "_model_name": "FloatProgressModel",
            "_view_count": null,
            "_view_module": "@jupyter-widgets/controls",
            "_view_module_version": "1.5.0",
            "_view_name": "ProgressView",
            "bar_style": "success",
            "description": "",
            "description_tooltip": null,
            "layout": "IPY_MODEL_c1d83a93de0647848aae442267c93b2e",
            "max": 10,
            "min": 0,
            "orientation": "horizontal",
            "style": "IPY_MODEL_b6980442b65c4f418765634b58702fbf",
            "value": 10
          }
        },
        "6ed42cc421fa42d0919cd7e25f44245e": {
          "model_module": "@jupyter-widgets/controls",
          "model_name": "HTMLModel",
          "model_module_version": "1.5.0",
          "state": {
            "_dom_classes": [],
            "_model_module": "@jupyter-widgets/controls",
            "_model_module_version": "1.5.0",
            "_model_name": "HTMLModel",
            "_view_count": null,
            "_view_module": "@jupyter-widgets/controls",
            "_view_module_version": "1.5.0",
            "_view_name": "HTMLView",
            "description": "",
            "description_tooltip": null,
            "layout": "IPY_MODEL_af4545393a654c1a8597aa12a6e15cef",
            "placeholder": "​",
            "style": "IPY_MODEL_d1d92d222a574b2f9423707e8182cc39",
            "value": " 10/10 [01:17&lt;00:00,  7.75s/it]"
          }
        },
        "6e8aed48bc274f3e84d25aefc289b626": {
          "model_module": "@jupyter-widgets/base",
          "model_name": "LayoutModel",
          "model_module_version": "1.2.0",
          "state": {
            "_model_module": "@jupyter-widgets/base",
            "_model_module_version": "1.2.0",
            "_model_name": "LayoutModel",
            "_view_count": null,
            "_view_module": "@jupyter-widgets/base",
            "_view_module_version": "1.2.0",
            "_view_name": "LayoutView",
            "align_content": null,
            "align_items": null,
            "align_self": null,
            "border": null,
            "bottom": null,
            "display": null,
            "flex": null,
            "flex_flow": null,
            "grid_area": null,
            "grid_auto_columns": null,
            "grid_auto_flow": null,
            "grid_auto_rows": null,
            "grid_column": null,
            "grid_gap": null,
            "grid_row": null,
            "grid_template_areas": null,
            "grid_template_columns": null,
            "grid_template_rows": null,
            "height": null,
            "justify_content": null,
            "justify_items": null,
            "left": null,
            "margin": null,
            "max_height": null,
            "max_width": null,
            "min_height": null,
            "min_width": null,
            "object_fit": null,
            "object_position": null,
            "order": null,
            "overflow": null,
            "overflow_x": null,
            "overflow_y": null,
            "padding": null,
            "right": null,
            "top": null,
            "visibility": null,
            "width": null
          }
        },
        "17d357005f8a4d419dc28e006f6e9ea3": {
          "model_module": "@jupyter-widgets/base",
          "model_name": "LayoutModel",
          "model_module_version": "1.2.0",
          "state": {
            "_model_module": "@jupyter-widgets/base",
            "_model_module_version": "1.2.0",
            "_model_name": "LayoutModel",
            "_view_count": null,
            "_view_module": "@jupyter-widgets/base",
            "_view_module_version": "1.2.0",
            "_view_name": "LayoutView",
            "align_content": null,
            "align_items": null,
            "align_self": null,
            "border": null,
            "bottom": null,
            "display": null,
            "flex": null,
            "flex_flow": null,
            "grid_area": null,
            "grid_auto_columns": null,
            "grid_auto_flow": null,
            "grid_auto_rows": null,
            "grid_column": null,
            "grid_gap": null,
            "grid_row": null,
            "grid_template_areas": null,
            "grid_template_columns": null,
            "grid_template_rows": null,
            "height": null,
            "justify_content": null,
            "justify_items": null,
            "left": null,
            "margin": null,
            "max_height": null,
            "max_width": null,
            "min_height": null,
            "min_width": null,
            "object_fit": null,
            "object_position": null,
            "order": null,
            "overflow": null,
            "overflow_x": null,
            "overflow_y": null,
            "padding": null,
            "right": null,
            "top": null,
            "visibility": null,
            "width": null
          }
        },
        "f1fc973822d04e1db204dc1f225a3ceb": {
          "model_module": "@jupyter-widgets/controls",
          "model_name": "DescriptionStyleModel",
          "model_module_version": "1.5.0",
          "state": {
            "_model_module": "@jupyter-widgets/controls",
            "_model_module_version": "1.5.0",
            "_model_name": "DescriptionStyleModel",
            "_view_count": null,
            "_view_module": "@jupyter-widgets/base",
            "_view_module_version": "1.2.0",
            "_view_name": "StyleView",
            "description_width": ""
          }
        },
        "c1d83a93de0647848aae442267c93b2e": {
          "model_module": "@jupyter-widgets/base",
          "model_name": "LayoutModel",
          "model_module_version": "1.2.0",
          "state": {
            "_model_module": "@jupyter-widgets/base",
            "_model_module_version": "1.2.0",
            "_model_name": "LayoutModel",
            "_view_count": null,
            "_view_module": "@jupyter-widgets/base",
            "_view_module_version": "1.2.0",
            "_view_name": "LayoutView",
            "align_content": null,
            "align_items": null,
            "align_self": null,
            "border": null,
            "bottom": null,
            "display": null,
            "flex": null,
            "flex_flow": null,
            "grid_area": null,
            "grid_auto_columns": null,
            "grid_auto_flow": null,
            "grid_auto_rows": null,
            "grid_column": null,
            "grid_gap": null,
            "grid_row": null,
            "grid_template_areas": null,
            "grid_template_columns": null,
            "grid_template_rows": null,
            "height": null,
            "justify_content": null,
            "justify_items": null,
            "left": null,
            "margin": null,
            "max_height": null,
            "max_width": null,
            "min_height": null,
            "min_width": null,
            "object_fit": null,
            "object_position": null,
            "order": null,
            "overflow": null,
            "overflow_x": null,
            "overflow_y": null,
            "padding": null,
            "right": null,
            "top": null,
            "visibility": null,
            "width": null
          }
        },
        "b6980442b65c4f418765634b58702fbf": {
          "model_module": "@jupyter-widgets/controls",
          "model_name": "ProgressStyleModel",
          "model_module_version": "1.5.0",
          "state": {
            "_model_module": "@jupyter-widgets/controls",
            "_model_module_version": "1.5.0",
            "_model_name": "ProgressStyleModel",
            "_view_count": null,
            "_view_module": "@jupyter-widgets/base",
            "_view_module_version": "1.2.0",
            "_view_name": "StyleView",
            "bar_color": null,
            "description_width": ""
          }
        },
        "af4545393a654c1a8597aa12a6e15cef": {
          "model_module": "@jupyter-widgets/base",
          "model_name": "LayoutModel",
          "model_module_version": "1.2.0",
          "state": {
            "_model_module": "@jupyter-widgets/base",
            "_model_module_version": "1.2.0",
            "_model_name": "LayoutModel",
            "_view_count": null,
            "_view_module": "@jupyter-widgets/base",
            "_view_module_version": "1.2.0",
            "_view_name": "LayoutView",
            "align_content": null,
            "align_items": null,
            "align_self": null,
            "border": null,
            "bottom": null,
            "display": null,
            "flex": null,
            "flex_flow": null,
            "grid_area": null,
            "grid_auto_columns": null,
            "grid_auto_flow": null,
            "grid_auto_rows": null,
            "grid_column": null,
            "grid_gap": null,
            "grid_row": null,
            "grid_template_areas": null,
            "grid_template_columns": null,
            "grid_template_rows": null,
            "height": null,
            "justify_content": null,
            "justify_items": null,
            "left": null,
            "margin": null,
            "max_height": null,
            "max_width": null,
            "min_height": null,
            "min_width": null,
            "object_fit": null,
            "object_position": null,
            "order": null,
            "overflow": null,
            "overflow_x": null,
            "overflow_y": null,
            "padding": null,
            "right": null,
            "top": null,
            "visibility": null,
            "width": null
          }
        },
        "d1d92d222a574b2f9423707e8182cc39": {
          "model_module": "@jupyter-widgets/controls",
          "model_name": "DescriptionStyleModel",
          "model_module_version": "1.5.0",
          "state": {
            "_model_module": "@jupyter-widgets/controls",
            "_model_module_version": "1.5.0",
            "_model_name": "DescriptionStyleModel",
            "_view_count": null,
            "_view_module": "@jupyter-widgets/base",
            "_view_module_version": "1.2.0",
            "_view_name": "StyleView",
            "description_width": ""
          }
        }
      }
    }
  },
  "cells": [
    {
      "cell_type": "markdown",
      "source": [
        "Install necessary libraries"
      ],
      "metadata": {
        "id": "QTDoo7WqW2qf"
      }
    },
    {
      "cell_type": "code",
      "execution_count": null,
      "metadata": {
        "colab": {
          "base_uri": "https://localhost:8080/"
        },
        "id": "-wPjRFqiGHaW",
        "outputId": "9cffa9af-5248-4097-8a5b-c8ca34d32e4a"
      },
      "outputs": [
        {
          "output_type": "stream",
          "name": "stdout",
          "text": [
            "Collecting implicit\n",
            "  Downloading implicit-0.7.2-cp311-cp311-manylinux2014_x86_64.whl.metadata (6.1 kB)\n",
            "Requirement already satisfied: numpy>=1.17.0 in /usr/local/lib/python3.11/dist-packages (from implicit) (2.0.2)\n",
            "Requirement already satisfied: scipy>=0.16 in /usr/local/lib/python3.11/dist-packages (from implicit) (1.14.1)\n",
            "Requirement already satisfied: tqdm>=4.27 in /usr/local/lib/python3.11/dist-packages (from implicit) (4.67.1)\n",
            "Requirement already satisfied: threadpoolctl in /usr/local/lib/python3.11/dist-packages (from implicit) (3.6.0)\n",
            "Downloading implicit-0.7.2-cp311-cp311-manylinux2014_x86_64.whl (8.9 MB)\n",
            "\u001b[2K   \u001b[90m━━━━━━━━━━━━━━━━━━━━━━━━━━━━━━━━━━━━━━━━\u001b[0m \u001b[32m8.9/8.9 MB\u001b[0m \u001b[31m21.6 MB/s\u001b[0m eta \u001b[36m0:00:00\u001b[0m\n",
            "\u001b[?25hInstalling collected packages: implicit\n",
            "Successfully installed implicit-0.7.2\n"
          ]
        }
      ],
      "source": [
        "!pip install implicit\n",
        "import pandas as pd\n",
        "import numpy as np\n",
        "import time\n",
        "import multiprocessing\n",
        "from sklearn.neighbors import NearestNeighbors\n",
        "from scipy.sparse import csr_matrix\n",
        "from implicit.als import AlternatingLeastSquares\n",
        "from sklearn.preprocessing import normalize\n",
        "import gdown"
      ]
    },
    {
      "cell_type": "markdown",
      "source": [
        "Load preprocessed event data"
      ],
      "metadata": {
        "id": "x0UVlP-0W50O"
      }
    },
    {
      "cell_type": "code",
      "source": [
        "file_id = \"1VowGO9LARBtqE5pec3QsaDdruhGTER-J\"\n",
        "output = \"processed_events.csv\"\n",
        "gdown.download(f\"https://drive.google.com/uc?id={file_id}\", output, quiet=False)\n",
        "\n",
        "events = pd.read_csv(output)\n",
        "print(events.head())"
      ],
      "metadata": {
        "colab": {
          "base_uri": "https://localhost:8080/"
        },
        "id": "iMlLXCS2GTmY",
        "outputId": "774c588f-3dbd-4778-f104-c3400986e258"
      },
      "execution_count": null,
      "outputs": [
        {
          "output_type": "stream",
          "name": "stderr",
          "text": [
            "Downloading...\n",
            "From (original): https://drive.google.com/uc?id=1VowGO9LARBtqE5pec3QsaDdruhGTER-J\n",
            "From (redirected): https://drive.google.com/uc?id=1VowGO9LARBtqE5pec3QsaDdruhGTER-J&confirm=t&uuid=ba1352f1-e2c4-4bda-9753-dfe84b91b632\n",
            "To: /content/processed_events.csv\n",
            "100%|██████████| 335M/335M [00:05<00:00, 66.7MB/s]\n"
          ]
        },
        {
          "output_type": "stream",
          "name": "stdout",
          "text": [
            "                 timestamp  visitorid event  itemid  transactionid  \\\n",
            "0  2015-06-02 05:02:12.117     257597  view  355908            NaN   \n",
            "1  2015-06-02 05:50:14.164     992329  view  248676            NaN   \n",
            "2  2015-06-02 05:13:19.827     111016  view  318965            NaN   \n",
            "3  2015-06-02 05:12:35.914     483717  view  253185            NaN   \n",
            "4  2015-06-02 05:02:17.106     951259  view  367447            NaN   \n",
            "\n",
            "   categoryid parent_categoryid  \n",
            "0      1173.0             805.0  \n",
            "1      1231.0             901.0  \n",
            "2         NaN           Unknown  \n",
            "3       914.0             226.0  \n",
            "4      1613.0             250.0  \n"
          ]
        }
      ]
    },
    {
      "cell_type": "markdown",
      "source": [
        "Load dataset efficiently"
      ],
      "metadata": {
        "id": "drIVmpmMW-Vu"
      }
    },
    {
      "cell_type": "code",
      "source": [
        "dtype_dict = {\"visitorid\": np.int32, \"itemid\": np.int32}\n",
        "df = pd.read_csv(\"processed_events.csv\", dtype=dtype_dict)"
      ],
      "metadata": {
        "id": "qlSc_sW5GVs3"
      },
      "execution_count": null,
      "outputs": []
    },
    {
      "cell_type": "markdown",
      "source": [
        "Prepare user and item mappings"
      ],
      "metadata": {
        "id": "fd01oJkTXCk2"
      }
    },
    {
      "cell_type": "markdown",
      "source": [
        "Define & Map event weights, and drop any faulty events"
      ],
      "metadata": {
        "id": "0G7VYZCIeTjR"
      }
    },
    {
      "cell_type": "code",
      "source": [
        "event_weights = {'view': 1, 'addtocart': 4, 'transaction': 15}\n",
        "df['event_weight'] = df['event'].map(event_weights)\n",
        "df = df.dropna(subset=['event_weight'])"
      ],
      "metadata": {
        "id": "e7CM4wYjd9Qq"
      },
      "execution_count": null,
      "outputs": []
    },
    {
      "cell_type": "markdown",
      "source": [
        "Reverse mapping for itemid recovery"
      ],
      "metadata": {
        "id": "irA7MKtWXHGe"
      }
    },
    {
      "cell_type": "code",
      "source": [
        "unique_users = df['visitorid'].unique()\n",
        "unique_items = df['itemid'].unique()\n",
        "user_mapping = {user: i for i, user in enumerate(unique_users)}\n",
        "item_mapping = {item: i for i, item in enumerate(unique_items)}\n",
        "reverse_item_mapping = {i: item for item, i in item_mapping.items()}\n",
        "\n",
        "print(f\"Number of unique users: {len(unique_users)}\")\n",
        "print(f\"Number of unique items: {len(unique_items)}\")"
      ],
      "metadata": {
        "colab": {
          "base_uri": "https://localhost:8080/"
        },
        "id": "JNVg8EZJGXpP",
        "outputId": "f4c59fb4-5822-42e1-888e-fdfad118c0e4"
      },
      "execution_count": null,
      "outputs": [
        {
          "output_type": "stream",
          "name": "stdout",
          "text": [
            "Number of unique users: 1407580\n",
            "Number of unique items: 235061\n"
          ]
        }
      ]
    },
    {
      "cell_type": "code",
      "source": [
        "df['user_index'] = df['visitorid'].map(user_mapping)\n",
        "df['item_index'] = df['itemid'].map(item_mapping)"
      ],
      "metadata": {
        "id": "sxmldRM_GZV_"
      },
      "execution_count": null,
      "outputs": []
    },
    {
      "cell_type": "markdown",
      "source": [
        "Convert interactions to a memory-efficient sparse matrix"
      ],
      "metadata": {
        "id": "452o3b4EXJ3v"
      }
    },
    {
      "cell_type": "code",
      "source": [
        "num_users, num_items = len(unique_users), len(unique_items)\n",
        "interaction_matrix_sparse = csr_matrix(\n",
        "    (np.ones(len(df), dtype=np.float32), (df['user_index'], df['item_index'])),\n",
        "    shape=(num_users, num_items)\n",
        ")\n",
        "\n",
        "print(f\"Shape of interaction matrix: {interaction_matrix_sparse.shape}\")"
      ],
      "metadata": {
        "colab": {
          "base_uri": "https://localhost:8080/"
        },
        "id": "0xoOvcKgGbL4",
        "outputId": "99f17ed6-707f-4368-f52b-e4ef612c0b09"
      },
      "execution_count": null,
      "outputs": [
        {
          "output_type": "stream",
          "name": "stdout",
          "text": [
            "Shape of interaction matrix: (1407580, 235061)\n"
          ]
        }
      ]
    },
    {
      "cell_type": "markdown",
      "source": [
        "Train Alternating Least Squares (ALS) Model while increasing confidence"
      ],
      "metadata": {
        "id": "Q2tZyVzGXN4H"
      }
    },
    {
      "cell_type": "code",
      "source": [
        "als_model = AlternatingLeastSquares(factors=50, iterations=10, regularization=0.1)\n",
        "confidence_factor = 15\n",
        "als_model.fit(interaction_matrix_sparse * confidence_factor)"
      ],
      "metadata": {
        "colab": {
          "base_uri": "https://localhost:8080/",
          "height": 104,
          "referenced_widgets": [
            "53491ecf09484a24b9871fc952191279",
            "37bc7d33dbee40fb8f36ed6d433a6c11",
            "4abe281e031c402abb816e57649a6887",
            "6ed42cc421fa42d0919cd7e25f44245e",
            "6e8aed48bc274f3e84d25aefc289b626",
            "17d357005f8a4d419dc28e006f6e9ea3",
            "f1fc973822d04e1db204dc1f225a3ceb",
            "c1d83a93de0647848aae442267c93b2e",
            "b6980442b65c4f418765634b58702fbf",
            "af4545393a654c1a8597aa12a6e15cef",
            "d1d92d222a574b2f9423707e8182cc39"
          ]
        },
        "id": "Ctf6U2x8GdYg",
        "outputId": "a8f62e33-1c64-4d12-bc6c-b8242823c8cb"
      },
      "execution_count": null,
      "outputs": [
        {
          "output_type": "stream",
          "name": "stderr",
          "text": [
            "/usr/local/lib/python3.11/dist-packages/implicit/cpu/als.py:95: RuntimeWarning: OpenBLAS is configured to use 2 threads. It is highly recommended to disable its internal threadpool by setting the environment variable 'OPENBLAS_NUM_THREADS=1' or by calling 'threadpoolctl.threadpool_limits(1, \"blas\")'. Having OpenBLAS use a threadpool can lead to severe performance issues here.\n",
            "  check_blas_config()\n"
          ]
        },
        {
          "output_type": "display_data",
          "data": {
            "text/plain": [
              "  0%|          | 0/10 [00:00<?, ?it/s]"
            ],
            "application/vnd.jupyter.widget-view+json": {
              "version_major": 2,
              "version_minor": 0,
              "model_id": "53491ecf09484a24b9871fc952191279"
            }
          },
          "metadata": {}
        }
      ]
    },
    {
      "cell_type": "markdown",
      "source": [
        "Train Nearest Neighbors (nbrs) model while using the normalize matrix"
      ],
      "metadata": {
        "id": "RqbLTCCQXTl1"
      }
    },
    {
      "cell_type": "code",
      "source": [
        "nbrs = NearestNeighbors(n_neighbors=5, metric='cosine', algorithm='brute')\n",
        "interaction_matrix_normalized = normalize(interaction_matrix_sparse, norm='l2')\n",
        "nbrs.fit(interaction_matrix_normalized)"
      ],
      "metadata": {
        "colab": {
          "base_uri": "https://localhost:8080/",
          "height": 81
        },
        "id": "zGZQq5muGfJX",
        "outputId": "436a0ec1-6be8-4768-9802-82d196849097"
      },
      "execution_count": null,
      "outputs": [
        {
          "output_type": "execute_result",
          "data": {
            "text/plain": [
              "NearestNeighbors(algorithm='brute', metric='cosine')"
            ],
            "text/html": [
              "<style>#sk-container-id-1 {\n",
              "  /* Definition of color scheme common for light and dark mode */\n",
              "  --sklearn-color-text: #000;\n",
              "  --sklearn-color-text-muted: #666;\n",
              "  --sklearn-color-line: gray;\n",
              "  /* Definition of color scheme for unfitted estimators */\n",
              "  --sklearn-color-unfitted-level-0: #fff5e6;\n",
              "  --sklearn-color-unfitted-level-1: #f6e4d2;\n",
              "  --sklearn-color-unfitted-level-2: #ffe0b3;\n",
              "  --sklearn-color-unfitted-level-3: chocolate;\n",
              "  /* Definition of color scheme for fitted estimators */\n",
              "  --sklearn-color-fitted-level-0: #f0f8ff;\n",
              "  --sklearn-color-fitted-level-1: #d4ebff;\n",
              "  --sklearn-color-fitted-level-2: #b3dbfd;\n",
              "  --sklearn-color-fitted-level-3: cornflowerblue;\n",
              "\n",
              "  /* Specific color for light theme */\n",
              "  --sklearn-color-text-on-default-background: var(--sg-text-color, var(--theme-code-foreground, var(--jp-content-font-color1, black)));\n",
              "  --sklearn-color-background: var(--sg-background-color, var(--theme-background, var(--jp-layout-color0, white)));\n",
              "  --sklearn-color-border-box: var(--sg-text-color, var(--theme-code-foreground, var(--jp-content-font-color1, black)));\n",
              "  --sklearn-color-icon: #696969;\n",
              "\n",
              "  @media (prefers-color-scheme: dark) {\n",
              "    /* Redefinition of color scheme for dark theme */\n",
              "    --sklearn-color-text-on-default-background: var(--sg-text-color, var(--theme-code-foreground, var(--jp-content-font-color1, white)));\n",
              "    --sklearn-color-background: var(--sg-background-color, var(--theme-background, var(--jp-layout-color0, #111)));\n",
              "    --sklearn-color-border-box: var(--sg-text-color, var(--theme-code-foreground, var(--jp-content-font-color1, white)));\n",
              "    --sklearn-color-icon: #878787;\n",
              "  }\n",
              "}\n",
              "\n",
              "#sk-container-id-1 {\n",
              "  color: var(--sklearn-color-text);\n",
              "}\n",
              "\n",
              "#sk-container-id-1 pre {\n",
              "  padding: 0;\n",
              "}\n",
              "\n",
              "#sk-container-id-1 input.sk-hidden--visually {\n",
              "  border: 0;\n",
              "  clip: rect(1px 1px 1px 1px);\n",
              "  clip: rect(1px, 1px, 1px, 1px);\n",
              "  height: 1px;\n",
              "  margin: -1px;\n",
              "  overflow: hidden;\n",
              "  padding: 0;\n",
              "  position: absolute;\n",
              "  width: 1px;\n",
              "}\n",
              "\n",
              "#sk-container-id-1 div.sk-dashed-wrapped {\n",
              "  border: 1px dashed var(--sklearn-color-line);\n",
              "  margin: 0 0.4em 0.5em 0.4em;\n",
              "  box-sizing: border-box;\n",
              "  padding-bottom: 0.4em;\n",
              "  background-color: var(--sklearn-color-background);\n",
              "}\n",
              "\n",
              "#sk-container-id-1 div.sk-container {\n",
              "  /* jupyter's `normalize.less` sets `[hidden] { display: none; }`\n",
              "     but bootstrap.min.css set `[hidden] { display: none !important; }`\n",
              "     so we also need the `!important` here to be able to override the\n",
              "     default hidden behavior on the sphinx rendered scikit-learn.org.\n",
              "     See: https://github.com/scikit-learn/scikit-learn/issues/21755 */\n",
              "  display: inline-block !important;\n",
              "  position: relative;\n",
              "}\n",
              "\n",
              "#sk-container-id-1 div.sk-text-repr-fallback {\n",
              "  display: none;\n",
              "}\n",
              "\n",
              "div.sk-parallel-item,\n",
              "div.sk-serial,\n",
              "div.sk-item {\n",
              "  /* draw centered vertical line to link estimators */\n",
              "  background-image: linear-gradient(var(--sklearn-color-text-on-default-background), var(--sklearn-color-text-on-default-background));\n",
              "  background-size: 2px 100%;\n",
              "  background-repeat: no-repeat;\n",
              "  background-position: center center;\n",
              "}\n",
              "\n",
              "/* Parallel-specific style estimator block */\n",
              "\n",
              "#sk-container-id-1 div.sk-parallel-item::after {\n",
              "  content: \"\";\n",
              "  width: 100%;\n",
              "  border-bottom: 2px solid var(--sklearn-color-text-on-default-background);\n",
              "  flex-grow: 1;\n",
              "}\n",
              "\n",
              "#sk-container-id-1 div.sk-parallel {\n",
              "  display: flex;\n",
              "  align-items: stretch;\n",
              "  justify-content: center;\n",
              "  background-color: var(--sklearn-color-background);\n",
              "  position: relative;\n",
              "}\n",
              "\n",
              "#sk-container-id-1 div.sk-parallel-item {\n",
              "  display: flex;\n",
              "  flex-direction: column;\n",
              "}\n",
              "\n",
              "#sk-container-id-1 div.sk-parallel-item:first-child::after {\n",
              "  align-self: flex-end;\n",
              "  width: 50%;\n",
              "}\n",
              "\n",
              "#sk-container-id-1 div.sk-parallel-item:last-child::after {\n",
              "  align-self: flex-start;\n",
              "  width: 50%;\n",
              "}\n",
              "\n",
              "#sk-container-id-1 div.sk-parallel-item:only-child::after {\n",
              "  width: 0;\n",
              "}\n",
              "\n",
              "/* Serial-specific style estimator block */\n",
              "\n",
              "#sk-container-id-1 div.sk-serial {\n",
              "  display: flex;\n",
              "  flex-direction: column;\n",
              "  align-items: center;\n",
              "  background-color: var(--sklearn-color-background);\n",
              "  padding-right: 1em;\n",
              "  padding-left: 1em;\n",
              "}\n",
              "\n",
              "\n",
              "/* Toggleable style: style used for estimator/Pipeline/ColumnTransformer box that is\n",
              "clickable and can be expanded/collapsed.\n",
              "- Pipeline and ColumnTransformer use this feature and define the default style\n",
              "- Estimators will overwrite some part of the style using the `sk-estimator` class\n",
              "*/\n",
              "\n",
              "/* Pipeline and ColumnTransformer style (default) */\n",
              "\n",
              "#sk-container-id-1 div.sk-toggleable {\n",
              "  /* Default theme specific background. It is overwritten whether we have a\n",
              "  specific estimator or a Pipeline/ColumnTransformer */\n",
              "  background-color: var(--sklearn-color-background);\n",
              "}\n",
              "\n",
              "/* Toggleable label */\n",
              "#sk-container-id-1 label.sk-toggleable__label {\n",
              "  cursor: pointer;\n",
              "  display: flex;\n",
              "  width: 100%;\n",
              "  margin-bottom: 0;\n",
              "  padding: 0.5em;\n",
              "  box-sizing: border-box;\n",
              "  text-align: center;\n",
              "  align-items: start;\n",
              "  justify-content: space-between;\n",
              "  gap: 0.5em;\n",
              "}\n",
              "\n",
              "#sk-container-id-1 label.sk-toggleable__label .caption {\n",
              "  font-size: 0.6rem;\n",
              "  font-weight: lighter;\n",
              "  color: var(--sklearn-color-text-muted);\n",
              "}\n",
              "\n",
              "#sk-container-id-1 label.sk-toggleable__label-arrow:before {\n",
              "  /* Arrow on the left of the label */\n",
              "  content: \"▸\";\n",
              "  float: left;\n",
              "  margin-right: 0.25em;\n",
              "  color: var(--sklearn-color-icon);\n",
              "}\n",
              "\n",
              "#sk-container-id-1 label.sk-toggleable__label-arrow:hover:before {\n",
              "  color: var(--sklearn-color-text);\n",
              "}\n",
              "\n",
              "/* Toggleable content - dropdown */\n",
              "\n",
              "#sk-container-id-1 div.sk-toggleable__content {\n",
              "  max-height: 0;\n",
              "  max-width: 0;\n",
              "  overflow: hidden;\n",
              "  text-align: left;\n",
              "  /* unfitted */\n",
              "  background-color: var(--sklearn-color-unfitted-level-0);\n",
              "}\n",
              "\n",
              "#sk-container-id-1 div.sk-toggleable__content.fitted {\n",
              "  /* fitted */\n",
              "  background-color: var(--sklearn-color-fitted-level-0);\n",
              "}\n",
              "\n",
              "#sk-container-id-1 div.sk-toggleable__content pre {\n",
              "  margin: 0.2em;\n",
              "  border-radius: 0.25em;\n",
              "  color: var(--sklearn-color-text);\n",
              "  /* unfitted */\n",
              "  background-color: var(--sklearn-color-unfitted-level-0);\n",
              "}\n",
              "\n",
              "#sk-container-id-1 div.sk-toggleable__content.fitted pre {\n",
              "  /* unfitted */\n",
              "  background-color: var(--sklearn-color-fitted-level-0);\n",
              "}\n",
              "\n",
              "#sk-container-id-1 input.sk-toggleable__control:checked~div.sk-toggleable__content {\n",
              "  /* Expand drop-down */\n",
              "  max-height: 200px;\n",
              "  max-width: 100%;\n",
              "  overflow: auto;\n",
              "}\n",
              "\n",
              "#sk-container-id-1 input.sk-toggleable__control:checked~label.sk-toggleable__label-arrow:before {\n",
              "  content: \"▾\";\n",
              "}\n",
              "\n",
              "/* Pipeline/ColumnTransformer-specific style */\n",
              "\n",
              "#sk-container-id-1 div.sk-label input.sk-toggleable__control:checked~label.sk-toggleable__label {\n",
              "  color: var(--sklearn-color-text);\n",
              "  background-color: var(--sklearn-color-unfitted-level-2);\n",
              "}\n",
              "\n",
              "#sk-container-id-1 div.sk-label.fitted input.sk-toggleable__control:checked~label.sk-toggleable__label {\n",
              "  background-color: var(--sklearn-color-fitted-level-2);\n",
              "}\n",
              "\n",
              "/* Estimator-specific style */\n",
              "\n",
              "/* Colorize estimator box */\n",
              "#sk-container-id-1 div.sk-estimator input.sk-toggleable__control:checked~label.sk-toggleable__label {\n",
              "  /* unfitted */\n",
              "  background-color: var(--sklearn-color-unfitted-level-2);\n",
              "}\n",
              "\n",
              "#sk-container-id-1 div.sk-estimator.fitted input.sk-toggleable__control:checked~label.sk-toggleable__label {\n",
              "  /* fitted */\n",
              "  background-color: var(--sklearn-color-fitted-level-2);\n",
              "}\n",
              "\n",
              "#sk-container-id-1 div.sk-label label.sk-toggleable__label,\n",
              "#sk-container-id-1 div.sk-label label {\n",
              "  /* The background is the default theme color */\n",
              "  color: var(--sklearn-color-text-on-default-background);\n",
              "}\n",
              "\n",
              "/* On hover, darken the color of the background */\n",
              "#sk-container-id-1 div.sk-label:hover label.sk-toggleable__label {\n",
              "  color: var(--sklearn-color-text);\n",
              "  background-color: var(--sklearn-color-unfitted-level-2);\n",
              "}\n",
              "\n",
              "/* Label box, darken color on hover, fitted */\n",
              "#sk-container-id-1 div.sk-label.fitted:hover label.sk-toggleable__label.fitted {\n",
              "  color: var(--sklearn-color-text);\n",
              "  background-color: var(--sklearn-color-fitted-level-2);\n",
              "}\n",
              "\n",
              "/* Estimator label */\n",
              "\n",
              "#sk-container-id-1 div.sk-label label {\n",
              "  font-family: monospace;\n",
              "  font-weight: bold;\n",
              "  display: inline-block;\n",
              "  line-height: 1.2em;\n",
              "}\n",
              "\n",
              "#sk-container-id-1 div.sk-label-container {\n",
              "  text-align: center;\n",
              "}\n",
              "\n",
              "/* Estimator-specific */\n",
              "#sk-container-id-1 div.sk-estimator {\n",
              "  font-family: monospace;\n",
              "  border: 1px dotted var(--sklearn-color-border-box);\n",
              "  border-radius: 0.25em;\n",
              "  box-sizing: border-box;\n",
              "  margin-bottom: 0.5em;\n",
              "  /* unfitted */\n",
              "  background-color: var(--sklearn-color-unfitted-level-0);\n",
              "}\n",
              "\n",
              "#sk-container-id-1 div.sk-estimator.fitted {\n",
              "  /* fitted */\n",
              "  background-color: var(--sklearn-color-fitted-level-0);\n",
              "}\n",
              "\n",
              "/* on hover */\n",
              "#sk-container-id-1 div.sk-estimator:hover {\n",
              "  /* unfitted */\n",
              "  background-color: var(--sklearn-color-unfitted-level-2);\n",
              "}\n",
              "\n",
              "#sk-container-id-1 div.sk-estimator.fitted:hover {\n",
              "  /* fitted */\n",
              "  background-color: var(--sklearn-color-fitted-level-2);\n",
              "}\n",
              "\n",
              "/* Specification for estimator info (e.g. \"i\" and \"?\") */\n",
              "\n",
              "/* Common style for \"i\" and \"?\" */\n",
              "\n",
              ".sk-estimator-doc-link,\n",
              "a:link.sk-estimator-doc-link,\n",
              "a:visited.sk-estimator-doc-link {\n",
              "  float: right;\n",
              "  font-size: smaller;\n",
              "  line-height: 1em;\n",
              "  font-family: monospace;\n",
              "  background-color: var(--sklearn-color-background);\n",
              "  border-radius: 1em;\n",
              "  height: 1em;\n",
              "  width: 1em;\n",
              "  text-decoration: none !important;\n",
              "  margin-left: 0.5em;\n",
              "  text-align: center;\n",
              "  /* unfitted */\n",
              "  border: var(--sklearn-color-unfitted-level-1) 1pt solid;\n",
              "  color: var(--sklearn-color-unfitted-level-1);\n",
              "}\n",
              "\n",
              ".sk-estimator-doc-link.fitted,\n",
              "a:link.sk-estimator-doc-link.fitted,\n",
              "a:visited.sk-estimator-doc-link.fitted {\n",
              "  /* fitted */\n",
              "  border: var(--sklearn-color-fitted-level-1) 1pt solid;\n",
              "  color: var(--sklearn-color-fitted-level-1);\n",
              "}\n",
              "\n",
              "/* On hover */\n",
              "div.sk-estimator:hover .sk-estimator-doc-link:hover,\n",
              ".sk-estimator-doc-link:hover,\n",
              "div.sk-label-container:hover .sk-estimator-doc-link:hover,\n",
              ".sk-estimator-doc-link:hover {\n",
              "  /* unfitted */\n",
              "  background-color: var(--sklearn-color-unfitted-level-3);\n",
              "  color: var(--sklearn-color-background);\n",
              "  text-decoration: none;\n",
              "}\n",
              "\n",
              "div.sk-estimator.fitted:hover .sk-estimator-doc-link.fitted:hover,\n",
              ".sk-estimator-doc-link.fitted:hover,\n",
              "div.sk-label-container:hover .sk-estimator-doc-link.fitted:hover,\n",
              ".sk-estimator-doc-link.fitted:hover {\n",
              "  /* fitted */\n",
              "  background-color: var(--sklearn-color-fitted-level-3);\n",
              "  color: var(--sklearn-color-background);\n",
              "  text-decoration: none;\n",
              "}\n",
              "\n",
              "/* Span, style for the box shown on hovering the info icon */\n",
              ".sk-estimator-doc-link span {\n",
              "  display: none;\n",
              "  z-index: 9999;\n",
              "  position: relative;\n",
              "  font-weight: normal;\n",
              "  right: .2ex;\n",
              "  padding: .5ex;\n",
              "  margin: .5ex;\n",
              "  width: min-content;\n",
              "  min-width: 20ex;\n",
              "  max-width: 50ex;\n",
              "  color: var(--sklearn-color-text);\n",
              "  box-shadow: 2pt 2pt 4pt #999;\n",
              "  /* unfitted */\n",
              "  background: var(--sklearn-color-unfitted-level-0);\n",
              "  border: .5pt solid var(--sklearn-color-unfitted-level-3);\n",
              "}\n",
              "\n",
              ".sk-estimator-doc-link.fitted span {\n",
              "  /* fitted */\n",
              "  background: var(--sklearn-color-fitted-level-0);\n",
              "  border: var(--sklearn-color-fitted-level-3);\n",
              "}\n",
              "\n",
              ".sk-estimator-doc-link:hover span {\n",
              "  display: block;\n",
              "}\n",
              "\n",
              "/* \"?\"-specific style due to the `<a>` HTML tag */\n",
              "\n",
              "#sk-container-id-1 a.estimator_doc_link {\n",
              "  float: right;\n",
              "  font-size: 1rem;\n",
              "  line-height: 1em;\n",
              "  font-family: monospace;\n",
              "  background-color: var(--sklearn-color-background);\n",
              "  border-radius: 1rem;\n",
              "  height: 1rem;\n",
              "  width: 1rem;\n",
              "  text-decoration: none;\n",
              "  /* unfitted */\n",
              "  color: var(--sklearn-color-unfitted-level-1);\n",
              "  border: var(--sklearn-color-unfitted-level-1) 1pt solid;\n",
              "}\n",
              "\n",
              "#sk-container-id-1 a.estimator_doc_link.fitted {\n",
              "  /* fitted */\n",
              "  border: var(--sklearn-color-fitted-level-1) 1pt solid;\n",
              "  color: var(--sklearn-color-fitted-level-1);\n",
              "}\n",
              "\n",
              "/* On hover */\n",
              "#sk-container-id-1 a.estimator_doc_link:hover {\n",
              "  /* unfitted */\n",
              "  background-color: var(--sklearn-color-unfitted-level-3);\n",
              "  color: var(--sklearn-color-background);\n",
              "  text-decoration: none;\n",
              "}\n",
              "\n",
              "#sk-container-id-1 a.estimator_doc_link.fitted:hover {\n",
              "  /* fitted */\n",
              "  background-color: var(--sklearn-color-fitted-level-3);\n",
              "}\n",
              "</style><div id=\"sk-container-id-1\" class=\"sk-top-container\"><div class=\"sk-text-repr-fallback\"><pre>NearestNeighbors(algorithm=&#x27;brute&#x27;, metric=&#x27;cosine&#x27;)</pre><b>In a Jupyter environment, please rerun this cell to show the HTML representation or trust the notebook. <br />On GitHub, the HTML representation is unable to render, please try loading this page with nbviewer.org.</b></div><div class=\"sk-container\" hidden><div class=\"sk-item\"><div class=\"sk-estimator fitted sk-toggleable\"><input class=\"sk-toggleable__control sk-hidden--visually\" id=\"sk-estimator-id-1\" type=\"checkbox\" checked><label for=\"sk-estimator-id-1\" class=\"sk-toggleable__label fitted sk-toggleable__label-arrow\"><div><div>NearestNeighbors</div></div><div><a class=\"sk-estimator-doc-link fitted\" rel=\"noreferrer\" target=\"_blank\" href=\"https://scikit-learn.org/1.6/modules/generated/sklearn.neighbors.NearestNeighbors.html\">?<span>Documentation for NearestNeighbors</span></a><span class=\"sk-estimator-doc-link fitted\">i<span>Fitted</span></span></div></label><div class=\"sk-toggleable__content fitted\"><pre>NearestNeighbors(algorithm=&#x27;brute&#x27;, metric=&#x27;cosine&#x27;)</pre></div> </div></div></div></div>"
            ]
          },
          "metadata": {},
          "execution_count": 9
        }
      ]
    },
    {
      "cell_type": "markdown",
      "source": [
        "Define (precesision & recall) as evaluation metrics"
      ],
      "metadata": {
        "id": "kXAAeGk7XXw1"
      }
    },
    {
      "cell_type": "code",
      "source": [
        "def precision_at_k(recommendations, actual_interactions, k=10):\n",
        "    if len(recommendations) > k:\n",
        "        recommendations = recommendations[:k]\n",
        "    relevant_items = set(recommendations) & set(actual_interactions)\n",
        "    return len(relevant_items) / k if k > 0 else 0"
      ],
      "metadata": {
        "id": "GSWYSHeIGg_I"
      },
      "execution_count": null,
      "outputs": []
    },
    {
      "cell_type": "code",
      "source": [
        "def recall_at_k(actual_interactions, recommendations, k=10):\n",
        "    relevant_items = set(actual_interactions)\n",
        "    recommended_items = set(recommendations[:k])\n",
        "    if len(relevant_items) == 0:\n",
        "        return 0\n",
        "    return len(relevant_items & recommended_items) / len(relevant_items)"
      ],
      "metadata": {
        "id": "lLDOCf6fGiwn"
      },
      "execution_count": null,
      "outputs": []
    },
    {
      "cell_type": "markdown",
      "source": [
        "ALS Model Reccommendation funtion"
      ],
      "metadata": {
        "id": "guA85KpfXbwl"
      }
    },
    {
      "cell_type": "code",
      "source": [
        "def als_recommend(user_id):\n",
        "    if user_id not in user_mapping:\n",
        "        return []\n",
        "    user_idx = user_mapping[user_id]\n",
        "    user_factors = als_model.user_factors[user_idx]\n",
        "    predicted_ratings = np.dot(user_factors, als_model.item_factors.T)\n",
        "    valid_indices = np.argsort(predicted_ratings)[::-1][:10]\n",
        "    return [reverse_item_mapping[i] for i in valid_indices if i in reverse_item_mapping]"
      ],
      "metadata": {
        "id": "r_SEvyy3GmbH"
      },
      "execution_count": null,
      "outputs": []
    },
    {
      "cell_type": "markdown",
      "source": [
        "nbrs Model recommendation function:"
      ],
      "metadata": {
        "id": "xOhKDaR1Xff-"
      }
    },
    {
      "cell_type": "markdown",
      "source": [],
      "metadata": {
        "id": "e98Dl9wNyHoz"
      }
    },
    {
      "cell_type": "code",
      "source": [
        "def nbrs_recommend(user_id):\n",
        "    if user_id not in user_mapping:\n",
        "        return []\n",
        "    user_idx = user_mapping[user_id]\n",
        "    distances, indices = nbrs.kneighbors(interaction_matrix_sparse[user_idx], n_neighbors=5)\n",
        "    similar_users = indices.flatten()[1:]\n",
        "    recommended_items = interaction_matrix_sparse[similar_users].sum(axis=0).A1.argsort()[-10:][::-1]\n",
        "    return [int(reverse_item_mapping[i]) for i in recommended_items if i in reverse_item_mapping]"
      ],
      "metadata": {
        "id": "NrZkaozbGoGg"
      },
      "execution_count": null,
      "outputs": []
    },
    {
      "cell_type": "markdown",
      "source": [
        "Optimize lookup for actual user interactions"
      ],
      "metadata": {
        "id": "iA0bXcUIXkZc"
      }
    },
    {
      "cell_type": "code",
      "source": [
        "actual_interactions_grouped = {}\n",
        "for user, item in zip(df['visitorid'], df['itemid']):\n",
        "    actual_interactions_grouped.setdefault(user, set()).add(item)\n",
        "print(f\"Number of unique users with actual interactions: {len(actual_interactions_grouped)}\")"
      ],
      "metadata": {
        "colab": {
          "base_uri": "https://localhost:8080/"
        },
        "id": "RAuhD02nGqHP",
        "outputId": "b008c3c7-3097-4630-abfa-ac992d237cab"
      },
      "execution_count": null,
      "outputs": [
        {
          "output_type": "stream",
          "name": "stdout",
          "text": [
            "Number of unique users with actual interactions: 1407580\n"
          ]
        }
      ]
    },
    {
      "cell_type": "markdown",
      "source": [
        "Select a smaller sample of users for faster evaluation"
      ],
      "metadata": {
        "id": "nUNMNz0iXn5c"
      }
    },
    {
      "cell_type": "code",
      "source": [
        "sample_users = np.random.choice(\n",
        "    list(actual_interactions_grouped.keys()),\n",
        "    size=min(1000, len(actual_interactions_grouped)),\n",
        "    replace=False\n",
        ")\n",
        "\n",
        "print(f\"Number of sampled users: {len(sample_users)}\")"
      ],
      "metadata": {
        "colab": {
          "base_uri": "https://localhost:8080/"
        },
        "id": "r3PWTOnRGr2v",
        "outputId": "704c6abe-1e91-4f4b-9ae7-8ef8d61dc4c2"
      },
      "execution_count": null,
      "outputs": [
        {
          "output_type": "stream",
          "name": "stdout",
          "text": [
            "Number of sampled users: 1000\n"
          ]
        }
      ]
    },
    {
      "cell_type": "markdown",
      "source": [
        "function to make recommendations and measure precesion and recall for them"
      ],
      "metadata": {
        "id": "Y78ycSCgIOCq"
      }
    },
    {
      "cell_type": "code",
      "source": [
        "def process_user(user_recommendation_tuple):\n",
        "    user, recommend_func = user_recommendation_tuple\n",
        "    try:\n",
        "        recommended_items = recommend_func(user)\n",
        "        actual_items = actual_interactions_grouped.get(user, set())\n",
        "        if not recommended_items:\n",
        "            return None\n",
        "        precision = precision_at_k(recommended_items, actual_items, k=10)\n",
        "        recall = recall_at_k(actual_items, recommended_items, k=10)\n",
        "        return precision, recall\n",
        "    except Exception as e:\n",
        "        return None"
      ],
      "metadata": {
        "id": "kHX52yydGuQn"
      },
      "execution_count": null,
      "outputs": []
    },
    {
      "cell_type": "markdown",
      "source": [
        "Use multiprocessing for faster evaluation"
      ],
      "metadata": {
        "id": "wVpUWGY6Xrek"
      }
    },
    {
      "cell_type": "code",
      "source": [
        "def evaluate_model(model_name, recommend_func):\n",
        "    print(f\"Evaluating model: {model_name}\")\n",
        "    with multiprocessing.Pool(processes=4) as pool:\n",
        "        results = pool.map(process_user, [(user, recommend_func) for user in sample_users])\n",
        "\n",
        "    precision_scores = [res[0] for res in results if res is not None]\n",
        "    recall_scores = [res[1] for res in results if res is not None]\n",
        "    avg_precision = sum(precision_scores) / len(precision_scores) if precision_scores else 0\n",
        "    avg_recall = sum(recall_scores) / len(recall_scores) if recall_scores else 0\n",
        "\n",
        "    return {\"Model\": model_name, \"Precision@10\": avg_precision, \"Recall@10\": avg_recall}"
      ],
      "metadata": {
        "id": "d1x7clftGwX_"
      },
      "execution_count": null,
      "outputs": []
    },
    {
      "cell_type": "markdown",
      "source": [
        "Start evaluation"
      ],
      "metadata": {
        "id": "hRkPvXylXudE"
      }
    },
    {
      "cell_type": "code",
      "source": [
        "evaluation_results = []\n",
        "models = {\n",
        "    \"ALS\": als_recommend,\n",
        "    \"nbrs\": nbrs_recommend\n",
        "}\n",
        "print(\"Starting evaluation...\")\n",
        "evaluation_results = [evaluate_model(model_name, recommend_func) for model_name, recommend_func in models.items()]"
      ],
      "metadata": {
        "colab": {
          "base_uri": "https://localhost:8080/"
        },
        "id": "W86S4pn0G3Pm",
        "outputId": "ae05a7ac-75f2-471b-fa5f-bbb2ebdd2a1a"
      },
      "execution_count": null,
      "outputs": [
        {
          "output_type": "stream",
          "name": "stdout",
          "text": [
            "Starting evaluation...\n",
            "Evaluating model: ALS\n",
            "Evaluating model: nbrs\n"
          ]
        }
      ]
    },
    {
      "cell_type": "markdown",
      "source": [
        "Convert results to DataFrame and display"
      ],
      "metadata": {
        "id": "K2-fN0UuXyEU"
      }
    },
    {
      "cell_type": "code",
      "source": [
        "results_df = pd.DataFrame(evaluation_results)\n",
        "print(\"Final Evaluation Results:\")\n",
        "print(results_df)"
      ],
      "metadata": {
        "colab": {
          "base_uri": "https://localhost:8080/"
        },
        "id": "esMA1gYqG8hW",
        "outputId": "e071915d-e954-43a0-dc18-8c08590cc39a"
      },
      "execution_count": null,
      "outputs": [
        {
          "output_type": "stream",
          "name": "stdout",
          "text": [
            "Final Evaluation Results:\n",
            "  Model  Precision@10  Recall@10\n",
            "0   ALS        0.0185   0.119730\n",
            "1  nbrs        0.1158   0.876148\n"
          ]
        }
      ]
    },
    {
      "cell_type": "markdown",
      "source": [
        "#Based on the results:\n",
        "**ALS** (Precision 0.019, Recall 0.106):\n",
        "\n",
        "* High false positives (because almost all recommendations are irrelevant).\n",
        "* High false negatives (because it's missing almost all relevant items).\n",
        "\n",
        "**nbrs**(Efficient) (Precision 0.116, Recall 0.890):\n",
        "* Lower false positives (more accurate recommendations).\n",
        "* Very low false negatives (capturing most of the relevant items)."
      ],
      "metadata": {
        "id": "o3TQyPOn_M6D"
      }
    },
    {
      "cell_type": "markdown",
      "source": [
        "\n",
        "# Example Usage\n",
        "\n",
        "Example User ID\n"
      ],
      "metadata": {
        "id": "o0qvvejGCeZ8"
      }
    },
    {
      "cell_type": "code",
      "source": [
        "user_id = 121688\n",
        "recommended_items = nbrs_recommend(user_id)\n",
        "print(recommended_items)"
      ],
      "metadata": {
        "id": "yT2NNCi7Ce9w",
        "colab": {
          "base_uri": "https://localhost:8080/"
        },
        "outputId": "b7397557-a503-4c98-8c86-0f956ddec1c0"
      },
      "execution_count": null,
      "outputs": [
        {
          "output_type": "stream",
          "name": "stdout",
          "text": [
            "[380775, 27090, 238865, 302943, 281164, 408846, 358385, 433504, 368193, 282778]\n"
          ]
        }
      ]
    },
    {
      "cell_type": "markdown",
      "source": [
        "# Save preprocessed user data"
      ],
      "metadata": {
        "id": "H4w5OhcTUz3J"
      }
    },
    {
      "cell_type": "code",
      "source": [
        "#iltered_df = df[['visitorid', 'itemid', 'event', 'user_index', 'item_index', 'event_weight']]\n",
        "#filtered_df.to_csv(\"filtered_events_updated.csv\", index=False)"
      ],
      "metadata": {
        "id": "No4sXO8DU3-2"
      },
      "execution_count": null,
      "outputs": []
    }
  ]
}